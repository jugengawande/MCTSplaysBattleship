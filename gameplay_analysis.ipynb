{
 "cells": [
  {
   "cell_type": "markdown",
   "metadata": {},
   "source": [
    "# Battleship AI Analysis"
   ]
  },
  {
   "cell_type": "code",
   "execution_count": 1,
   "metadata": {},
   "outputs": [],
   "source": [
    "from game_physics import * \n",
    "from game_variables import Settings as s\n",
    "\n",
    "import pandas as pd\n",
    "import numpy as np\n",
    "import seaborn as sns\n",
    "import random \n",
    "\n",
    "import warnings\n",
    "warnings.filterwarnings('ignore')"
   ]
  },
  {
   "cell_type": "code",
   "execution_count": null,
   "metadata": {},
   "outputs": [],
   "source": []
  },
  {
   "cell_type": "code",
   "execution_count": null,
   "metadata": {},
   "outputs": [],
   "source": [
    "def run_simulation(iterations, grid_size, strategy_1, strategy_2):\n",
    "    player_1_wins = 0       \n",
    "    player_0_wins = 0\n",
    "    simulation_results = pd.DataFrame(columns=['test', 'winner', 'miss', 'steps'])\n",
    "\n",
    "    for i in range(iterations):\n",
    "\n",
    "        game = Game(False,False)\n",
    "        s.set_grid_size = grid_size\n",
    "        \n",
    "        strategy = [game.random_strategy, game.sequential_strategy, game.mcts ]\n",
    "        player_1_strategy = strategy[strategy\n",
    "                                     "
   ]
  },
  {
   "cell_type": "code",
   "execution_count": 54,
   "metadata": {},
   "outputs": [],
   "source": [
    "\n",
    "def run_simulation(iterations, grid_size, fleet, strategy_1, strategy_0):\n",
    "    player_1_wins = 0       \n",
    "    player_0_wins = 0\n",
    "    result = pd.DataFrame(columns=['test', 'player_1_win','player_0_win' 'miss', 'steps'])\n",
    "    \n",
    "    s.set_grid_size = grid_size\n",
    "    s.set_fleet = fleet\n",
    "    \n",
    "    for i in range(iterations):\n",
    "    \n",
    "        game = Game(False,False)\n",
    "        \n",
    "        \n",
    "        strategy = [game.random_strategy, game.sequential_strategy, game.mcts ]\n",
    "        player_1_strategy = strategy[strategy_1]\n",
    "        player_0_strategy = strategy[strategy_0]\n",
    "\n",
    "        while not game.game_over_state:\n",
    "\n",
    "            index = player_1_strategy() if game.turn else player_0_strategy()\n",
    "            r = game.move(index)\n",
    "            if r == -1: game.game_over_state = True  \n",
    "\n",
    "        iteration_result = {\n",
    "            'test' : i,\n",
    "            'player_1_win' : 1 if game.winner == \"Player 1\" else 0,\n",
    "            'player_0_win' : 1 if game.winner == \"Player 0\" else 0,\n",
    "            'steps' : game.total_hits + game.total_miss,\n",
    "            'miss' : game.total_miss\n",
    "        }\n",
    "\n",
    "        result = result.append( iteration_result, ignore_index = True)\n",
    "\n",
    "        if game.turn:\n",
    "            player_1_wins += 1\n",
    "        if not game.turn: \n",
    "            player_0_wins += 1 \n",
    "            \n",
    "        print(f\"Running test {i+1}/{iterations} for grid size {grid_size}\",end='\\r', flush=True)\n",
    "    \n",
    "    print('\\n')\n",
    "    return result"
   ]
  },
  {
   "cell_type": "code",
   "execution_count": 72,
   "metadata": {},
   "outputs": [
    {
     "name": "stdout",
     "output_type": "stream",
     "text": [
      "Running test 10/10 for grid size 5\n",
      "\n",
      "Running test 10/10 for grid size 7\n",
      "\n",
      "Running test 10/10 for grid size 10\n",
      "\n",
      "Running test 10/10 for grid size 20\n",
      "\n",
      "Simulation Complete. Ran 10 iterations each for 4 test case \n"
     ]
    }
   ],
   "source": [
    "'''\n",
    "Use following codes for different strategies\n",
    "0 : Random\n",
    "1 : Sequential\n",
    "2 : MCTS\n",
    "'''\n",
    "\n",
    "\n",
    "test_runs = 10\n",
    "test_grid_sizes = [5,7,10,20]\n",
    "test_fleet_sizes = [[2,3,4], [2,3,3,4], [2,3,3,4,5], [2,3,3,4,4,5]]\n",
    "sim_results = pd.DataFrame(columns=['test', 'grid', 'player_1_wins', 'player_0_wins', 'avg_steps'])\n",
    "\n",
    "\n",
    "for t, i in enumerate(zip(test_grid_sizes,test_fleet_sizes)):\n",
    "    r = run_simulation(test_runs, i[0],i[1], 1, 2)\n",
    "    sim_r = {\n",
    "        'test' : t,\n",
    "        'grid' : i[0],\n",
    "        'player_1_wins' : r.player_1_win.astype(bool).sum(axis=0),\n",
    "        'player_0_wins' : r.player_0_win.astype(bool).sum(axis=0),\n",
    "        'avg_steps' : int(r.steps.mean())\n",
    "    }\n",
    "    \n",
    "    sim_results = sim_results.append(sim_r,ignore_index=True)\n",
    "    \n",
    "    \n",
    "print(f\"Simulation Complete. Ran {test_runs} iterations each for {t+1} test case \")\n",
    "    \n",
    "\n"
   ]
  },
  {
   "cell_type": "code",
   "execution_count": 73,
   "metadata": {},
   "outputs": [
    {
     "data": {
      "text/plain": [
       "<matplotlib.axes._subplots.AxesSubplot at 0x7fe97aafafd0>"
      ]
     },
     "execution_count": 73,
     "metadata": {},
     "output_type": "execute_result"
    },
    {
     "data": {
      "image/png": "[encoded data removed]",
      "text/plain": [
       "<Figure size 432x288 with 1 Axes>"
      ]
     },
     "metadata": {
      "needs_background": "light"
     },
     "output_type": "display_data"
    }
   ],
   "source": [
    "sns.barplot(x=sim_results.grid, y=sim_results.avg_steps)"
   ]
  },
  {
   "cell_type": "code",
   "execution_count": 74,
   "metadata": {},
   "outputs": [
    {
     "data": {
      "text/html": [
       "<div>\n",
       "<style scoped>\n",
       "    .dataframe tbody tr th:only-of-type {\n",
       "        vertical-align: middle;\n",
       "    }\n",
       "\n",
       "    .dataframe tbody tr th {\n",
       "        vertical-align: top;\n",
       "    }\n",
       "\n",
       "    .dataframe thead th {\n",
       "        text-align: right;\n",
       "    }\n",
       "</style>\n",
       "<table border=\"1\" class=\"dataframe\">\n",
       "  <thead>\n",
       "    <tr style=\"text-align: right;\">\n",
       "      <th></th>\n",
       "      <th>test</th>\n",
       "      <th>grid</th>\n",
       "      <th>player_1_wins</th>\n",
       "      <th>player_0_wins</th>\n",
       "      <th>avg_steps</th>\n",
       "    </tr>\n",
       "  </thead>\n",
       "  <tbody>\n",
       "    <tr>\n",
       "      <th>0</th>\n",
       "      <td>0</td>\n",
       "      <td>5</td>\n",
       "      <td>1</td>\n",
       "      <td>9</td>\n",
       "      <td>17</td>\n",
       "    </tr>\n",
       "    <tr>\n",
       "      <th>1</th>\n",
       "      <td>1</td>\n",
       "      <td>7</td>\n",
       "      <td>1</td>\n",
       "      <td>9</td>\n",
       "      <td>17</td>\n",
       "    </tr>\n",
       "    <tr>\n",
       "      <th>2</th>\n",
       "      <td>2</td>\n",
       "      <td>10</td>\n",
       "      <td>2</td>\n",
       "      <td>8</td>\n",
       "      <td>17</td>\n",
       "    </tr>\n",
       "    <tr>\n",
       "      <th>3</th>\n",
       "      <td>3</td>\n",
       "      <td>20</td>\n",
       "      <td>1</td>\n",
       "      <td>9</td>\n",
       "      <td>18</td>\n",
       "    </tr>\n",
       "  </tbody>\n",
       "</table>\n",
       "</div>"
      ],
      "text/plain": [
       "  test grid player_1_wins player_0_wins avg_steps\n",
       "0    0    5             1             9        17\n",
       "1    1    7             1             9        17\n",
       "2    2   10             2             8        17\n",
       "3    3   20             1             9        18"
      ]
     },
     "execution_count": 74,
     "metadata": {},
     "output_type": "execute_result"
    }
   ],
   "source": [
    "sim_results"
   ]
  },
  {
   "cell_type": "code",
   "execution_count": 83,
   "metadata": {},
   "outputs": [
    {
     "name": "stdout",
     "output_type": "stream",
     "text": [
      "Running test 100/100 for grid size 5\n",
      "\n"
     ]
    }
   ],
   "source": [
    "r = run_simulation(100,5,[2,3,4], 0,1)\n"
   ]
  },
  {
   "cell_type": "code",
   "execution_count": null,
   "metadata": {},
   "outputs": [],
   "source": [
    "r.steps.mean()"
   ]
  },
  {
   "cell_type": "code",
   "execution_count": null,
   "metadata": {},
   "outputs": [],
   "source": []
  }
 ],
 "metadata": {
  "kernelspec": {
   "display_name": "Python 3 (ipykernel)",
   "language": "python",
   "name": "python3"
  },
  "language_info": {
   "codemirror_mode": {
    "name": "ipython",
    "version": 3
   },
   "file_extension": ".py",
   "mimetype": "text/x-python",
   "name": "python",
   "nbconvert_exporter": "python",
   "pygments_lexer": "ipython3",
   "version": "3.8.1"
  },
  "vscode": {
   "interpreter": {
    "hash": "aee8b7b246df8f9039afb4144a1f6fd8d2ca17a180786b69acc140d282b71a49"
   }
  }
 },
 "nbformat": 4,
 "nbformat_minor": 2
}
