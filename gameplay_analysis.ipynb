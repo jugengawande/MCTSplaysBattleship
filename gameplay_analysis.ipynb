{
 "cells": [
  {
   "cell_type": "markdown",
   "metadata": {},
   "source": [
    "# Battleship AI Analysis"
   ]
  },
  {
   "cell_type": "code",
   "execution_count": 1,
   "metadata": {},
   "outputs": [],
   "source": [
    "from game_physics import Game\n",
    "import game_variables as s"
   ]
  },
  {
   "cell_type": "code",
   "execution_count": 2,
   "metadata": {},
   "outputs": [],
   "source": [
    "test_runs = 100"
   ]
  },
  {
   "cell_type": "code",
   "execution_count": 3,
   "metadata": {},
   "outputs": [],
   "source": [
    "player_1_wins = 0       \n",
    "player_0_wins = 0\n",
    "\n",
    "for i in range(test_runs):\n",
    "    \n",
    "    game = Game(\"1\", \"2\") \n",
    "    player_1_strategy = game.sequential_strategy\n",
    "    player_0_strategy = game.random_strategy\n",
    "    \n",
    "    while not game.game_over_state:\n",
    "        \n",
    "        index = player_1_strategy() if game.player_turn else player_0_strategy()\n",
    "        r = game.move(index)\n",
    "        if r == -1: game.game_over_state = True  \n",
    "    \n",
    "    if game.player_turn: \n",
    "        player_1_wins += 1\n",
    "    if not game.player_turn: \n",
    "        player_0_wins += 1 \n",
    "        \n"
   ]
  },
  {
   "cell_type": "code",
   "execution_count": 4,
   "metadata": {},
   "outputs": [
    {
     "name": "stdout",
     "output_type": "stream",
     "text": [
      "Ran 100 test simulations:\n",
      "\n",
      "Player 1 won:  88\n",
      "Player 0 won:  12\n"
     ]
    }
   ],
   "source": [
    "# Print Results\n",
    "print(f'Ran {test_runs} test simulations:\\n')\n",
    "\n",
    "print(\"Player 1 won: \", player_1_wins )\n",
    "print(\"Player 0 won: \", player_0_wins )"
   ]
  },
  {
   "cell_type": "code",
   "execution_count": null,
   "metadata": {},
   "outputs": [],
   "source": []
  }
 ],
 "metadata": {
  "kernelspec": {
   "display_name": "Python 3.8.1 64-bit",
   "language": "python",
   "name": "python3"
  },
  "language_info": {
   "codemirror_mode": {
    "name": "ipython",
    "version": 3
   },
   "file_extension": ".py",
   "mimetype": "text/x-python",
   "name": "python",
   "nbconvert_exporter": "python",
   "pygments_lexer": "ipython3",
   "version": "3.8.1"
  },
  "vscode": {
   "interpreter": {
    "hash": "aee8b7b246df8f9039afb4144a1f6fd8d2ca17a180786b69acc140d282b71a49"
   }
  }
 },
 "nbformat": 4,
 "nbformat_minor": 2
}
